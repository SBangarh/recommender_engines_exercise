{
 "cells": [
  {
   "cell_type": "code",
   "execution_count": 1,
   "metadata": {
    "ExecuteTime": {
     "end_time": "2020-04-30T11:38:37.047559Z",
     "start_time": "2020-04-30T11:38:35.905481Z"
    }
   },
   "outputs": [],
   "source": [
    "# import pandas\n",
    "import pandas as pd\n",
    "\n",
    "# import TfidfVectorizer\n",
    "from sklearn.feature_extraction.text import TfidfVectorizer\n",
    "\n",
    "# import cosine_similarity\n",
    "from sklearn.metrics.pairwise import cosine_similarity"
   ]
  },
  {
   "cell_type": "code",
   "execution_count": 2,
   "metadata": {
    "ExecuteTime": {
     "end_time": "2020-04-30T11:38:37.699655Z",
     "start_time": "2020-04-30T11:38:37.111767Z"
    }
   },
   "outputs": [],
   "source": [
    "# import data\n",
    "df = pd.read_csv(\"https://raw.githubusercontent.com/nikitaa30/Content-based-Recommender-System/master/sample-data.csv\")"
   ]
  },
  {
   "cell_type": "code",
   "execution_count": 3,
   "metadata": {},
   "outputs": [
    {
     "data": {
      "text/html": [
       "<div>\n",
       "<style scoped>\n",
       "    .dataframe tbody tr th:only-of-type {\n",
       "        vertical-align: middle;\n",
       "    }\n",
       "\n",
       "    .dataframe tbody tr th {\n",
       "        vertical-align: top;\n",
       "    }\n",
       "\n",
       "    .dataframe thead th {\n",
       "        text-align: right;\n",
       "    }\n",
       "</style>\n",
       "<table border=\"1\" class=\"dataframe\">\n",
       "  <thead>\n",
       "    <tr style=\"text-align: right;\">\n",
       "      <th></th>\n",
       "      <th>id</th>\n",
       "      <th>description</th>\n",
       "    </tr>\n",
       "  </thead>\n",
       "  <tbody>\n",
       "    <tr>\n",
       "      <th>0</th>\n",
       "      <td>1</td>\n",
       "      <td>Active classic boxers - There's a reason why o...</td>\n",
       "    </tr>\n",
       "    <tr>\n",
       "      <th>1</th>\n",
       "      <td>2</td>\n",
       "      <td>Active sport boxer briefs - Skinning up Glory ...</td>\n",
       "    </tr>\n",
       "    <tr>\n",
       "      <th>2</th>\n",
       "      <td>3</td>\n",
       "      <td>Active sport briefs - These superbreathable no...</td>\n",
       "    </tr>\n",
       "    <tr>\n",
       "      <th>3</th>\n",
       "      <td>4</td>\n",
       "      <td>Alpine guide pants - Skin in, climb ice, switc...</td>\n",
       "    </tr>\n",
       "    <tr>\n",
       "      <th>4</th>\n",
       "      <td>5</td>\n",
       "      <td>Alpine wind jkt - On high ridges, steep ice an...</td>\n",
       "    </tr>\n",
       "    <tr>\n",
       "      <th>...</th>\n",
       "      <td>...</td>\n",
       "      <td>...</td>\n",
       "    </tr>\n",
       "    <tr>\n",
       "      <th>495</th>\n",
       "      <td>496</td>\n",
       "      <td>Cap 2 bottoms - Cut loose from the maddening c...</td>\n",
       "    </tr>\n",
       "    <tr>\n",
       "      <th>496</th>\n",
       "      <td>497</td>\n",
       "      <td>Cap 2 crew - This crew takes the edge off fick...</td>\n",
       "    </tr>\n",
       "    <tr>\n",
       "      <th>497</th>\n",
       "      <td>498</td>\n",
       "      <td>All-time shell - No need to use that morning T...</td>\n",
       "    </tr>\n",
       "    <tr>\n",
       "      <th>498</th>\n",
       "      <td>499</td>\n",
       "      <td>All-wear cargo shorts - All-Wear Cargo Shorts ...</td>\n",
       "    </tr>\n",
       "    <tr>\n",
       "      <th>499</th>\n",
       "      <td>500</td>\n",
       "      <td>All-wear shorts - Time to simplify? Our All-We...</td>\n",
       "    </tr>\n",
       "  </tbody>\n",
       "</table>\n",
       "<p>500 rows × 2 columns</p>\n",
       "</div>"
      ],
      "text/plain": [
       "      id                                        description\n",
       "0      1  Active classic boxers - There's a reason why o...\n",
       "1      2  Active sport boxer briefs - Skinning up Glory ...\n",
       "2      3  Active sport briefs - These superbreathable no...\n",
       "3      4  Alpine guide pants - Skin in, climb ice, switc...\n",
       "4      5  Alpine wind jkt - On high ridges, steep ice an...\n",
       "..   ...                                                ...\n",
       "495  496  Cap 2 bottoms - Cut loose from the maddening c...\n",
       "496  497  Cap 2 crew - This crew takes the edge off fick...\n",
       "497  498  All-time shell - No need to use that morning T...\n",
       "498  499  All-wear cargo shorts - All-Wear Cargo Shorts ...\n",
       "499  500  All-wear shorts - Time to simplify? Our All-We...\n",
       "\n",
       "[500 rows x 2 columns]"
      ]
     },
     "execution_count": 3,
     "metadata": {},
     "output_type": "execute_result"
    }
   ],
   "source": [
    "df"
   ]
  },
  {
   "cell_type": "markdown",
   "metadata": {},
   "source": [
    "* explore DataFrame"
   ]
  },
  {
   "cell_type": "code",
   "execution_count": 4,
   "metadata": {},
   "outputs": [
    {
     "name": "stdout",
     "output_type": "stream",
     "text": [
      "<class 'pandas.core.frame.DataFrame'>\n",
      "RangeIndex: 500 entries, 0 to 499\n",
      "Data columns (total 2 columns):\n",
      " #   Column       Non-Null Count  Dtype \n",
      "---  ------       --------------  ----- \n",
      " 0   id           500 non-null    int64 \n",
      " 1   description  500 non-null    object\n",
      "dtypes: int64(1), object(1)\n",
      "memory usage: 7.9+ KB\n"
     ]
    }
   ],
   "source": [
    "df.info()"
   ]
  },
  {
   "cell_type": "code",
   "execution_count": 7,
   "metadata": {},
   "outputs": [
    {
     "name": "stdout",
     "output_type": "stream",
     "text": [
      "86    Merino 1 crew - In a day packed with decisions...\n",
      "Name: description, dtype: object\n"
     ]
    }
   ],
   "source": [
    "print(df['description'].sample(1))"
   ]
  },
  {
   "cell_type": "markdown",
   "metadata": {},
   "source": [
    "We will be using Tf-Idf to find similar items based on description\n",
    "* instantiate TF-IDF"
   ]
  },
  {
   "cell_type": "code",
   "execution_count": 8,
   "metadata": {
    "ExecuteTime": {
     "end_time": "2020-04-30T11:34:35.873143Z",
     "start_time": "2020-04-30T11:34:35.867457Z"
    }
   },
   "outputs": [],
   "source": [
    "tfidf = TfidfVectorizer(stop_words='english')"
   ]
  },
  {
   "cell_type": "markdown",
   "metadata": {},
   "source": [
    "* fit and transform 'description' column with TFIDF"
   ]
  },
  {
   "cell_type": "code",
   "execution_count": 10,
   "metadata": {},
   "outputs": [],
   "source": [
    "my_matrix = tfidf.fit_transform(df['description'])"
   ]
  },
  {
   "cell_type": "code",
   "execution_count": 11,
   "metadata": {},
   "outputs": [
    {
     "data": {
      "text/plain": [
       "(500, 4816)"
      ]
     },
     "execution_count": 11,
     "metadata": {},
     "output_type": "execute_result"
    }
   ],
   "source": [
    "my_matrix.shape"
   ]
  },
  {
   "cell_type": "markdown",
   "metadata": {},
   "source": [
    "* calculate the cosine similarity of each item with every other item in the dataset, "
   ]
  },
  {
   "cell_type": "code",
   "execution_count": 34,
   "metadata": {},
   "outputs": [],
   "source": [
    "my_cosine = cosine_similarity(my_matrix, my_matrix)"
   ]
  },
  {
   "cell_type": "code",
   "execution_count": 35,
   "metadata": {},
   "outputs": [
    {
     "data": {
      "text/plain": [
       "array([[1.        , 0.32792053, 0.20819843, ..., 0.17696975, 0.20143942,\n",
       "        0.22598052],\n",
       "       [0.32792053, 1.        , 0.5673509 , ..., 0.12925175, 0.21139731,\n",
       "        0.19396413],\n",
       "       [0.20819843, 0.5673509 , 1.        , ..., 0.13509939, 0.14185763,\n",
       "        0.15717399],\n",
       "       ...,\n",
       "       [0.17696975, 0.12925175, 0.13509939, ..., 1.        , 0.14187074,\n",
       "        0.17045334],\n",
       "       [0.20143942, 0.21139731, 0.14185763, ..., 0.14187074, 1.        ,\n",
       "        0.55846363],\n",
       "       [0.22598052, 0.19396413, 0.15717399, ..., 0.17045334, 0.55846363,\n",
       "        1.        ]])"
      ]
     },
     "execution_count": 35,
     "metadata": {},
     "output_type": "execute_result"
    }
   ],
   "source": [
    "my_cosine"
   ]
  },
  {
   "cell_type": "markdown",
   "metadata": {
    "ExecuteTime": {
     "end_time": "2020-04-30T11:35:42.314473Z",
     "start_time": "2020-04-30T11:35:41.640441Z"
    }
   },
   "source": [
    "* sort all items using their similarity for each item i, and store the values in dictionary `results`\n",
    "\n",
    "```\n",
    "results = {\n",
    "    \"1\": [5,7,9...],\n",
    "    \"2\": [45,2,3...]\n",
    "}\n",
    "```"
   ]
  },
  {
   "cell_type": "code",
   "execution_count": 37,
   "metadata": {},
   "outputs": [
    {
     "data": {
      "text/plain": [
       "(500, 500)"
      ]
     },
     "execution_count": 37,
     "metadata": {},
     "output_type": "execute_result"
    }
   ],
   "source": [
    "my_cosine.shape"
   ]
  },
  {
   "cell_type": "code",
   "execution_count": 38,
   "metadata": {},
   "outputs": [
    {
     "name": "stdout",
     "output_type": "stream",
     "text": [
      "500\n"
     ]
    }
   ],
   "source": [
    "results = {} #empty dict to append results\n",
    "\n",
    "for i in range(len(my_cosine)): #loop over indicies in range of length of my_cosine\n",
    "    results[str(i+1)] = list(my_cosine[i]) # append number as string to key and assign correspong values as list\n",
    "\n",
    "\n",
    "print(len(results)) #check to see if len is till same"
   ]
  },
  {
   "cell_type": "code",
   "execution_count": null,
   "metadata": {},
   "outputs": [],
   "source": []
  },
  {
   "cell_type": "markdown",
   "metadata": {},
   "source": [
    "* create function `recommender` that will recommend similar products\n",
    "    * function must have two input params: **item_id** and **count** of similar products "
   ]
  },
  {
   "cell_type": "code",
   "execution_count": 39,
   "metadata": {},
   "outputs": [],
   "source": [
    "# recommender function to recommend similar products\n",
    "\n",
    "def recommender(item_id, count):\n",
    "    # need to get index\n",
    "    idx = [item_id]\n",
    "\n",
    "    #get pairwise similarity with id\n",
    "    similarity_scores = list(enumerate(my_cosine[idx]))\n",
    "    \n",
    "    #sort based on similarit\n",
    "    similarity_scores = sorted(similarity_scores, key=lambda x: x[1], reverse=True)\n",
    "\n",
    "    #get scores of count\n",
    "    similarity_scores = similarity_scores[:count+1]\n",
    "\n",
    "    #get product similarity\n",
    "    similar_ids = [i[0] for i in similarity_scores]\n",
    "\n",
    "    #return num products that are equal to count\n",
    "    top_results = df['id'].iloc[similar_ids]\n",
    "    return top_results"
   ]
  },
  {
   "cell_type": "code",
   "execution_count": null,
   "metadata": {
    "ExecuteTime": {
     "end_time": "2020-04-30T11:36:31.626923Z",
     "start_time": "2020-04-30T11:36:31.620020Z"
    }
   },
   "outputs": [],
   "source": []
  },
  {
   "cell_type": "markdown",
   "metadata": {},
   "source": [
    "* show top 5 the most similar items for item with idem_id = 11"
   ]
  },
  {
   "cell_type": "code",
   "execution_count": 41,
   "metadata": {},
   "outputs": [
    {
     "data": {
      "text/plain": [
       "0    1\n",
       "Name: id, dtype: int64"
      ]
     },
     "execution_count": 41,
     "metadata": {},
     "output_type": "execute_result"
    }
   ],
   "source": [
    "#something went wrong need more, start again\n",
    "recommender(item_id=11, count=5)"
   ]
  },
  {
   "cell_type": "code",
   "execution_count": null,
   "metadata": {
    "ExecuteTime": {
     "end_time": "2020-04-30T11:36:55.945848Z",
     "start_time": "2020-04-30T11:36:55.933039Z"
    }
   },
   "outputs": [],
   "source": []
  }
 ],
 "metadata": {
  "kernelspec": {
   "display_name": "ds_env",
   "language": "python",
   "name": "ds_env"
  },
  "language_info": {
   "codemirror_mode": {
    "name": "ipython",
    "version": 3
   },
   "file_extension": ".py",
   "mimetype": "text/x-python",
   "name": "python",
   "nbconvert_exporter": "python",
   "pygments_lexer": "ipython3",
   "version": "3.12.2"
  },
  "toc": {
   "base_numbering": 1,
   "nav_menu": {},
   "number_sections": true,
   "sideBar": true,
   "skip_h1_title": false,
   "title_cell": "Table of Contents",
   "title_sidebar": "Contents",
   "toc_cell": false,
   "toc_position": {},
   "toc_section_display": true,
   "toc_window_display": false
  },
  "varInspector": {
   "cols": {
    "lenName": 16,
    "lenType": 16,
    "lenVar": 40
   },
   "kernels_config": {
    "python": {
     "delete_cmd_postfix": "",
     "delete_cmd_prefix": "del ",
     "library": "var_list.py",
     "varRefreshCmd": "print(var_dic_list())"
    },
    "r": {
     "delete_cmd_postfix": ") ",
     "delete_cmd_prefix": "rm(",
     "library": "var_list.r",
     "varRefreshCmd": "cat(var_dic_list()) "
    }
   },
   "types_to_exclude": [
    "module",
    "function",
    "builtin_function_or_method",
    "instance",
    "_Feature"
   ],
   "window_display": false
  }
 },
 "nbformat": 4,
 "nbformat_minor": 4
}
